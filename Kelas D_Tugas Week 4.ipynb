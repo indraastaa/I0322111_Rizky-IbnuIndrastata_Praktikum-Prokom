{
 "cells": [
  {
   "cell_type": "code",
   "execution_count": 1,
   "metadata": {},
   "outputs": [
    {
     "name": "stdout",
     "output_type": "stream",
     "text": [
      "Rizky Ibnu Indrastata\n",
      "I0322111\n",
      "D\n"
     ]
    }
   ],
   "source": [
    "print(input(\"Nama: \"))\n",
    "print(input(\"NIM: \"))\n",
    "print(input(\"Kelas: \"))"
   ]
  },
  {
   "attachments": {},
   "cell_type": "markdown",
   "metadata": {},
   "source": [
    "## 1."
   ]
  },
  {
   "attachments": {},
   "cell_type": "markdown",
   "metadata": {},
   "source": [
    "Buatlah program yang menampilkan salam “Selamat Pagi” dari berbagai negara {Inggris, Perancis, Italia, Spanyol, Jepang, Korea} dengan dua input dari user yaitu bahasa dan diikuti nama user.<br>\n",
    "<br>Ex : \n",
    "<br>\"Ohayou, Onii Chan\"\n",
    "> *note: Kerjakan soal ini dengan percabangan*"
   ]
  },
  {
   "cell_type": "code",
   "execution_count": 6,
   "metadata": {},
   "outputs": [
    {
     "name": "stdout",
     "output_type": "stream",
     "text": [
      "Ohayō Ibnu\n"
     ]
    }
   ],
   "source": [
    "# Kerjakan soal nomor 1 disini\n",
    "lang   = input(\"pilih bahasa untuk ucapan selamat pagi :\")\n",
    "nama   = input(\"masukkan nama :\")\n",
    "negara = [\"Inggris\", \"Perancis\", \"Italia\", \"Spanyol\", \"Jepang\", \"Korea\"]\n",
    "greet  = [\"Good Morning\", \"Bonjour\", \"Bungoiorno\", \"Buen día\", \"Ohayō\", \"anyyeonghaseyo\"]\n",
    "\n",
    "if lang == negara[0] :\n",
    "    print(greet[0], nama)\n",
    "elif lang == negara [1] :\n",
    "    print(greet [1], nama)\n",
    "elif lang == negara [2] :\n",
    "    print(greet [2], nama)\n",
    "elif lang == negara [3] :\n",
    "    print(greet[3], nama)\n",
    "elif lang == negara [4] :\n",
    "    print(greet[4], nama)\n",
    "elif lang == negara [5] :\n",
    "    print(greet[5], nama)\n",
    "else :\n",
    "    print(\"maaf, negara yang dimasukkan tidak tersedia\")"
   ]
  },
  {
   "attachments": {},
   "cell_type": "markdown",
   "metadata": {},
   "source": [
    "## 2."
   ]
  },
  {
   "attachments": {},
   "cell_type": "markdown",
   "metadata": {},
   "source": [
    "Buatlah program perhitungan umur dengan menggunakan input user yaitu tahun lahir dari user.<br>\n",
    "<br>Output yang dihasilkan adalah sebagai berikut:\n",
    "<br>\"Apakah anda berasal dari masa depan?\"\n",
    "<br>\"Anda barusaja lahir\"\n",
    "<br>\"Umur Anda adalah xx tahun\"\n",
    "> *note: Kerjakan soal ini dengan percabangan*"
   ]
  },
  {
   "cell_type": "code",
   "execution_count": 3,
   "metadata": {},
   "outputs": [
    {
     "name": "stdout",
     "output_type": "stream",
     "text": [
      "apakah anda berasal dari masa depan?\n"
     ]
    }
   ],
   "source": [
    "# Kerjakan soal nomor 2 disini\n",
    "x = int(input(\"masukkan tahun lahir anda :\"))\n",
    "y = 2023 #tahun sekarang\n",
    "z = y-x\n",
    "\n",
    "if x > y :\n",
    "    print(\"apakah anda berasal dari masa depan?\")\n",
    "elif x == y :\n",
    "    print(\"anda baru saja lahir\")\n",
    "else :\n",
    "    print(f\"umur anda adalah {z} tahun\")"
   ]
  }
 ],
 "metadata": {
  "kernelspec": {
   "display_name": "Python 3",
   "language": "python",
   "name": "python3"
  },
  "language_info": {
   "codemirror_mode": {
    "name": "ipython",
    "version": 3
   },
   "file_extension": ".py",
   "mimetype": "text/x-python",
   "name": "python",
   "nbconvert_exporter": "python",
   "pygments_lexer": "ipython3",
   "version": "3.10.8"
  },
  "orig_nbformat": 4
 },
 "nbformat": 4,
 "nbformat_minor": 2
}
