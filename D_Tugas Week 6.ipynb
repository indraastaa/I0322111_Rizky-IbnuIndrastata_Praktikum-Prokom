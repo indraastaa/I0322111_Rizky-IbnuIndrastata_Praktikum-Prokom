{
 "cells": [
  {
   "attachments": {},
   "cell_type": "markdown",
   "metadata": {},
   "source": [
    "1. Tulis program dengan fungsi untuk menentukan angka median dari tiga angka yang diberikan!\n",
    "     ###### Note: Angka ditentukan sendiri oleh praktikan"
   ]
  },
  {
   "cell_type": "code",
   "execution_count": 13,
   "metadata": {},
   "outputs": [
    {
     "name": "stdout",
     "output_type": "stream",
     "text": [
      "17\n"
     ]
    }
   ],
   "source": [
    "# Kerjakan Nomor 1 di bawah ini\n",
    "def median_tiga_angka (a, b, c):\n",
    "    # Mencari nilai median dengan mengecek kondisi\n",
    "    if (a > b and a < c) or (a < b and a > c):\n",
    "        return a\n",
    "    elif (b > a and b < c) or (b < a and b > c):\n",
    "        return b\n",
    "    else:\n",
    "        return c\n",
    "\n",
    "print(median_tiga_angka(9, 27, 17))"
   ]
  },
  {
   "attachments": {},
   "cell_type": "markdown",
   "metadata": {},
   "source": [
    "2. Tulis fungsi Python yang mengambil list awal dan menampilkan list baru dengan angka unik (tidak ada angka yang sama) dari list yang pertama."
   ]
  },
  {
   "cell_type": "code",
   "execution_count": 8,
   "metadata": {},
   "outputs": [],
   "source": [
    "list_awal = [40,40,40,40,40,41,41,42,44,45,45,45,45,46,47,48,50,50,50]"
   ]
  },
  {
   "cell_type": "code",
   "execution_count": 10,
   "metadata": {},
   "outputs": [
    {
     "name": "stdout",
     "output_type": "stream",
     "text": [
      "[40, 41, 42, 44, 45, 46, 47, 48, 50]\n"
     ]
    }
   ],
   "source": [
    "# Kerjakan Nomor 2 di bawah ini\n",
    "\n",
    "list_awal = [40,40,40,40,40,41,41,42,44,45,45,45,45,46,47,48,50,50,50]\n",
    "\n",
    "unique_list = []\n",
    "\n",
    "for number in list_awal:\n",
    "    if number not in unique_list:\n",
    "        unique_list.append(number)\n",
    "\n",
    "print(unique_list)\n"
   ]
  },
  {
   "attachments": {},
   "cell_type": "markdown",
   "metadata": {},
   "source": [
    "3. Terdapat 2 list yang berbeda, gabungkan 2 list berikut menggunakan fungsi built-in dan tampilkan hasilnya dengan cara menurun/memakai perulangan/bukan menggunakan list! "
   ]
  },
  {
   "cell_type": "code",
   "execution_count": 11,
   "metadata": {},
   "outputs": [
    {
     "name": "stdout",
     "output_type": "stream",
     "text": [
      "sebuahbintang\n",
      "sepasangangsa\n",
      "selembarkertas\n",
      "kotasolo\n",
      "buahapel\n"
     ]
    }
   ],
   "source": [
    "list1 = ['buah', 'kota', 'selembar', 'sepasang', 'sebuah']\n",
    "list2 = ['apel', 'solo', 'kertas', 'angsa', 'bintang']\n",
    "\n",
    "for x, y in zip(reversed(list1), reversed(list2)):\n",
    "    print(x + y)"
   ]
  }
 ],
 "metadata": {
  "kernelspec": {
   "display_name": "Python 3",
   "language": "python",
   "name": "python3"
  },
  "language_info": {
   "codemirror_mode": {
    "name": "ipython",
    "version": 3
   },
   "file_extension": ".py",
   "mimetype": "text/x-python",
   "name": "python",
   "nbconvert_exporter": "python",
   "pygments_lexer": "ipython3",
   "version": "3.10.8"
  },
  "orig_nbformat": 4,
  "vscode": {
   "interpreter": {
    "hash": "5addf786bcd861d1ce5006f23111f8cbb206731e5b61b0a5632ba9e0252558a8"
   }
  }
 },
 "nbformat": 4,
 "nbformat_minor": 2
}
